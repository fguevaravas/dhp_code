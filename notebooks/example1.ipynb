{
 "cells": [
  {
   "cell_type": "markdown",
   "metadata": {},
   "source": [
    "# Example 1: uniqueness with one single boundary condition\n",
    "Here we show a graph where one single boundary condition is sufficient to\n",
    "recover conductivities from power data in the linearized sense."
   ]
  },
  {
   "cell_type": "markdown",
   "metadata": {},
   "source": [
    "## Graph setup\n",
    "First we setup the graph, boundary conditions and graph Laplacian"
   ]
  },
  {
   "cell_type": "code",
   "execution_count": 1,
   "metadata": {},
   "outputs": [],
   "source": [
    "using Plots, LinearAlgebra, Test\n",
    "x = vcat([cos(2π*i/3) for i=0:2],0)\n",
    "y = vcat([sin(2π*i/3) for i=0:2],0)\n",
    "∇ = [1 0 0 -1\n",
    "     0 1 0 -1\n",
    "     0 0 1 -1 ]\n",
    "σ = ones(3);\n",
    "𝐁 = [1,2,3];\n",
    "𝐈 = [4];\n",
    "n𝐈 =length(𝐈); n𝐁 = length(𝐁);\n",
    "n𝐄, n𝐕 = size(∇)\n",
    "\n",
    "f1 = [ 1, 0,0];\n",
    "L(σ) = ∇'*diagm(σ)*∇;"
   ]
  },
  {
   "cell_type": "markdown",
   "metadata": {},
   "source": [
    "## Graph plotting"
   ]
  },
  {
   "cell_type": "code",
   "execution_count": 2,
   "metadata": {},
   "outputs": [
    {
     "data": {
      "image/png": "[encoded data removed]",
      "image/svg+xml": [
       "<?xml version=\"1.0\" encoding=\"utf-8\"?>\n",
       "<svg xmlns=\"http://www.w3.org/2000/svg\" xmlns:xlink=\"http://www.w3.org/1999/xlink\" width=\"300\" height=\"300\" viewBox=\"0 0 1200 1200\">\n",
       "<defs>\n",
       "  <clipPath id=\"clip690\">\n",
       "    <rect x=\"0\" y=\"0\" width=\"1200\" height=\"1200\"/>\n",
       "  </clipPath>\n",
       "</defs>\n",
       "<path clip-path=\"url(#clip690)\" d=\"M0 1200 L1200 1200 L1200 0 L0 0  Z\" fill=\"#ffffff\" fill-rule=\"evenodd\" fill-opacity=\"1\"/>\n",
       "<defs>\n",
       "  <clipPath id=\"clip691\">\n",
       "    <rect x=\"240\" y=\"119\" width=\"841\" height=\"841\"/>\n",
       "  </clipPath>\n",
       "</defs>\n",
       "<path clip-path=\"url(#clip690)\" d=\"M212.098 1073.17 L1152.76 1073.17 L1152.76 47.2441 L212.098 47.2441  Z\" fill=\"#ffffff\" fill-rule=\"evenodd\" fill-opacity=\"1\"/>\n",
       "<defs>\n",
       "  <clipPath id=\"clip692\">\n",
       "    <rect x=\"212\" y=\"47\" width=\"942\" height=\"1027\"/>\n",
       "  </clipPath>\n",
       "</defs>\n",
       "<circle clip-path=\"url(#clip692)\" cx=\"542.729\" cy=\"560.206\" r=\"25.2\" fill=\"#0000ff\" fill-rule=\"evenodd\" fill-opacity=\"0.5\" stroke=\"#000000\" stroke-opacity=\"0.5\" stroke-width=\"2.4\"/>\n",
       "<circle clip-path=\"url(#clip692)\" cx=\"1101.52\" cy=\"560.206\" r=\"25.2\" fill=\"#ff0000\" fill-rule=\"evenodd\" fill-opacity=\"0.5\" stroke=\"#000000\" stroke-opacity=\"0.5\" stroke-width=\"2.4\"/>\n",
       "<circle clip-path=\"url(#clip692)\" cx=\"263.334\" cy=\"76.2797\" r=\"25.2\" fill=\"#ff0000\" fill-rule=\"evenodd\" fill-opacity=\"0.5\" stroke=\"#000000\" stroke-opacity=\"0.5\" stroke-width=\"2.4\"/>\n",
       "<circle clip-path=\"url(#clip692)\" cx=\"263.334\" cy=\"1044.13\" r=\"25.2\" fill=\"#ff0000\" fill-rule=\"evenodd\" fill-opacity=\"0.5\" stroke=\"#000000\" stroke-opacity=\"0.5\" stroke-width=\"2.4\"/>\n",
       "<polyline clip-path=\"url(#clip692)\" style=\"stroke:#000000; stroke-linecap:round; stroke-linejoin:round; stroke-width:4; stroke-opacity:1; fill:none\" points=\"1101.52,560.206 542.729,560.206 \"/>\n",
       "<polyline clip-path=\"url(#clip692)\" style=\"stroke:#000000; stroke-linecap:round; stroke-linejoin:round; stroke-width:4; stroke-opacity:1; fill:none\" points=\"263.334,76.2797 542.729,560.206 \"/>\n",
       "<polyline clip-path=\"url(#clip692)\" style=\"stroke:#000000; stroke-linecap:round; stroke-linejoin:round; stroke-width:4; stroke-opacity:1; fill:none\" points=\"263.334,1044.13 542.729,560.206 \"/>\n",
       "<path clip-path=\"url(#clip690)\" d=\"M1079.12 602.435 L1087.72 602.435 L1087.72 572.774 L1078.37 574.649 L1078.37 569.857 L1087.67 567.982 L1092.93 567.982 L1092.93 602.435 L1101.52 602.435 L1101.52 606.862 L1079.12 606.862 L1079.12 602.435 Z\" fill=\"#000000\" fill-rule=\"nonzero\" fill-opacity=\"1\" /><path clip-path=\"url(#clip690)\" d=\"M244.975 118.509 L263.334 118.509 L263.334 122.936 L238.647 122.936 L238.647 118.509 Q241.642 115.41 246.798 110.201 Q251.98 104.967 253.308 103.457 Q255.834 100.618 256.824 98.665 Q257.84 96.6858 257.84 94.7848 Q257.84 91.6858 255.652 89.7327 Q253.491 87.7796 250.001 87.7796 Q247.527 87.7796 244.767 88.639 Q242.032 89.4984 238.907 91.2431 L238.907 85.9307 Q242.085 84.6546 244.845 84.0036 Q247.605 83.3526 249.897 83.3526 Q255.939 83.3526 259.532 86.3734 Q263.126 89.3942 263.126 94.4462 Q263.126 96.8421 262.215 99.0035 Q261.329 101.139 258.959 104.056 Q258.308 104.811 254.819 108.431 Q251.329 112.024 244.975 118.509 Z\" fill=\"#000000\" fill-rule=\"nonzero\" fill-opacity=\"1\" /><path clip-path=\"url(#clip690)\" d=\"M255.314 1069.82 Q259.09 1070.63 261.199 1073.18 Q263.334 1075.74 263.334 1079.49 Q263.334 1085.24 259.376 1088.39 Q255.418 1091.54 248.126 1091.54 Q245.678 1091.54 243.074 1091.05 Q240.496 1090.58 237.736 1089.62 L237.736 1084.54 Q239.923 1085.81 242.527 1086.47 Q245.131 1087.12 247.97 1087.12 Q252.918 1087.12 255.496 1085.16 Q258.1 1083.21 258.1 1079.49 Q258.1 1076.05 255.678 1074.12 Q253.282 1072.17 248.986 1072.17 L244.454 1072.17 L244.454 1067.85 L249.194 1067.85 Q253.074 1067.85 255.131 1066.31 Q257.189 1064.75 257.189 1061.83 Q257.189 1058.84 255.053 1057.25 Q252.944 1055.63 248.986 1055.63 Q246.824 1055.63 244.35 1056.1 Q241.876 1056.57 238.907 1057.56 L238.907 1052.87 Q241.902 1052.04 244.506 1051.62 Q247.137 1051.21 249.454 1051.21 Q255.444 1051.21 258.933 1053.94 Q262.423 1056.65 262.423 1061.28 Q262.423 1064.51 260.574 1066.75 Q258.725 1068.97 255.314 1069.82 Z\" fill=\"#000000\" fill-rule=\"nonzero\" fill-opacity=\"1\" /><path clip-path=\"url(#clip690)\" d=\"M531.948 572.565 L518.667 593.32 L531.948 593.32 L531.948 572.565 M530.568 567.982 L537.183 567.982 L537.183 593.32 L542.729 593.32 L542.729 597.695 L537.183 597.695 L537.183 606.862 L531.948 606.862 L531.948 597.695 L514.396 597.695 L514.396 592.617 L530.568 567.982 Z\" fill=\"#000000\" fill-rule=\"nonzero\" fill-opacity=\"1\" /><path clip-path=\"url(#clip690)\" d=\"M799.729 602.435 L808.322 602.435 L808.322 572.774 L798.973 574.649 L798.973 569.857 L808.27 567.982 L813.531 567.982 L813.531 602.435 L822.124 602.435 L822.124 606.862 L799.729 606.862 L799.729 602.435 Z\" fill=\"#000000\" fill-rule=\"nonzero\" fill-opacity=\"1\" /><path clip-path=\"url(#clip690)\" d=\"M384.673 360.472 L403.032 360.472 L403.032 364.899 L378.345 364.899 L378.345 360.472 Q381.339 357.373 386.496 352.165 Q391.678 346.93 393.006 345.42 Q395.532 342.581 396.522 340.628 Q397.537 338.649 397.537 336.748 Q397.537 333.649 395.35 331.696 Q393.188 329.743 389.699 329.743 Q387.225 329.743 384.464 330.602 Q381.73 331.462 378.605 333.206 L378.605 327.894 Q381.782 326.618 384.542 325.967 Q387.303 325.316 389.594 325.316 Q395.636 325.316 399.23 328.337 Q402.824 331.357 402.824 336.409 Q402.824 338.805 401.912 340.967 Q401.027 343.102 398.657 346.019 Q398.006 346.774 394.516 350.394 Q391.027 353.987 384.673 360.472 Z\" fill=\"#000000\" fill-rule=\"nonzero\" fill-opacity=\"1\" /><path clip-path=\"url(#clip690)\" d=\"M395.011 827.862 Q398.787 828.669 400.896 831.221 Q403.032 833.773 403.032 837.523 Q403.032 843.278 399.074 846.429 Q395.115 849.58 387.824 849.58 Q385.376 849.58 382.772 849.086 Q380.193 848.617 377.433 847.653 L377.433 842.575 Q379.621 843.851 382.225 844.502 Q384.829 845.153 387.667 845.153 Q392.615 845.153 395.193 843.2 Q397.798 841.247 397.798 837.523 Q397.798 834.086 395.376 832.159 Q392.98 830.205 388.683 830.205 L384.152 830.205 L384.152 825.883 L388.891 825.883 Q392.772 825.883 394.829 824.346 Q396.886 822.784 396.886 819.867 Q396.886 816.872 394.751 815.284 Q392.641 813.669 388.683 813.669 Q386.522 813.669 384.048 814.138 Q381.574 814.607 378.605 815.596 L378.605 810.909 Q381.6 810.075 384.204 809.659 Q386.834 809.242 389.152 809.242 Q395.141 809.242 398.631 811.976 Q402.12 814.685 402.12 819.32 Q402.12 822.549 400.272 824.789 Q398.423 827.002 395.011 827.862 Z\" fill=\"#000000\" fill-rule=\"nonzero\" fill-opacity=\"1\" /></svg>\n"
      ],
      "text/html": [
       "<?xml version=\"1.0\" encoding=\"utf-8\"?>\n",
       "<svg xmlns=\"http://www.w3.org/2000/svg\" xmlns:xlink=\"http://www.w3.org/1999/xlink\" width=\"300\" height=\"300\" viewBox=\"0 0 1200 1200\">\n",
       "<defs>\n",
       "  <clipPath id=\"clip740\">\n",
       "    <rect x=\"0\" y=\"0\" width=\"1200\" height=\"1200\"/>\n",
       "  </clipPath>\n",
       "</defs>\n",
       "<path clip-path=\"url(#clip740)\" d=\"M0 1200 L1200 1200 L1200 0 L0 0  Z\" fill=\"#ffffff\" fill-rule=\"evenodd\" fill-opacity=\"1\"/>\n",
       "<defs>\n",
       "  <clipPath id=\"clip741\">\n",
       "    <rect x=\"240\" y=\"119\" width=\"841\" height=\"841\"/>\n",
       "  </clipPath>\n",
       "</defs>\n",
       "<path clip-path=\"url(#clip740)\" d=\"M212.098 1073.17 L1152.76 1073.17 L1152.76 47.2441 L212.098 47.2441  Z\" fill=\"#ffffff\" fill-rule=\"evenodd\" fill-opacity=\"1\"/>\n",
       "<defs>\n",
       "  <clipPath id=\"clip742\">\n",
       "    <rect x=\"212\" y=\"47\" width=\"942\" height=\"1027\"/>\n",
       "  </clipPath>\n",
       "</defs>\n",
       "<circle clip-path=\"url(#clip742)\" cx=\"542.729\" cy=\"560.206\" r=\"25.2\" fill=\"#0000ff\" fill-rule=\"evenodd\" fill-opacity=\"0.5\" stroke=\"#000000\" stroke-opacity=\"0.5\" stroke-width=\"2.4\"/>\n",
       "<circle clip-path=\"url(#clip742)\" cx=\"1101.52\" cy=\"560.206\" r=\"25.2\" fill=\"#ff0000\" fill-rule=\"evenodd\" fill-opacity=\"0.5\" stroke=\"#000000\" stroke-opacity=\"0.5\" stroke-width=\"2.4\"/>\n",
       "<circle clip-path=\"url(#clip742)\" cx=\"263.334\" cy=\"76.2797\" r=\"25.2\" fill=\"#ff0000\" fill-rule=\"evenodd\" fill-opacity=\"0.5\" stroke=\"#000000\" stroke-opacity=\"0.5\" stroke-width=\"2.4\"/>\n",
       "<circle clip-path=\"url(#clip742)\" cx=\"263.334\" cy=\"1044.13\" r=\"25.2\" fill=\"#ff0000\" fill-rule=\"evenodd\" fill-opacity=\"0.5\" stroke=\"#000000\" stroke-opacity=\"0.5\" stroke-width=\"2.4\"/>\n",
       "<polyline clip-path=\"url(#clip742)\" style=\"stroke:#000000; stroke-linecap:round; stroke-linejoin:round; stroke-width:4; stroke-opacity:1; fill:none\" points=\"1101.52,560.206 542.729,560.206 \"/>\n",
       "<polyline clip-path=\"url(#clip742)\" style=\"stroke:#000000; stroke-linecap:round; stroke-linejoin:round; stroke-width:4; stroke-opacity:1; fill:none\" points=\"263.334,76.2797 542.729,560.206 \"/>\n",
       "<polyline clip-path=\"url(#clip742)\" style=\"stroke:#000000; stroke-linecap:round; stroke-linejoin:round; stroke-width:4; stroke-opacity:1; fill:none\" points=\"263.334,1044.13 542.729,560.206 \"/>\n",
       "<path clip-path=\"url(#clip740)\" d=\"M1079.12 602.435 L1087.72 602.435 L1087.72 572.774 L1078.37 574.649 L1078.37 569.857 L1087.67 567.982 L1092.93 567.982 L1092.93 602.435 L1101.52 602.435 L1101.52 606.862 L1079.12 606.862 L1079.12 602.435 Z\" fill=\"#000000\" fill-rule=\"nonzero\" fill-opacity=\"1\" /><path clip-path=\"url(#clip740)\" d=\"M244.975 118.509 L263.334 118.509 L263.334 122.936 L238.647 122.936 L238.647 118.509 Q241.642 115.41 246.798 110.201 Q251.98 104.967 253.308 103.457 Q255.834 100.618 256.824 98.665 Q257.84 96.6858 257.84 94.7848 Q257.84 91.6858 255.652 89.7327 Q253.491 87.7796 250.001 87.7796 Q247.527 87.7796 244.767 88.639 Q242.032 89.4984 238.907 91.2431 L238.907 85.9307 Q242.085 84.6546 244.845 84.0036 Q247.605 83.3526 249.897 83.3526 Q255.939 83.3526 259.532 86.3734 Q263.126 89.3942 263.126 94.4462 Q263.126 96.8421 262.215 99.0035 Q261.329 101.139 258.959 104.056 Q258.308 104.811 254.819 108.431 Q251.329 112.024 244.975 118.509 Z\" fill=\"#000000\" fill-rule=\"nonzero\" fill-opacity=\"1\" /><path clip-path=\"url(#clip740)\" d=\"M255.314 1069.82 Q259.09 1070.63 261.199 1073.18 Q263.334 1075.74 263.334 1079.49 Q263.334 1085.24 259.376 1088.39 Q255.418 1091.54 248.126 1091.54 Q245.678 1091.54 243.074 1091.05 Q240.496 1090.58 237.736 1089.62 L237.736 1084.54 Q239.923 1085.81 242.527 1086.47 Q245.131 1087.12 247.97 1087.12 Q252.918 1087.12 255.496 1085.16 Q258.1 1083.21 258.1 1079.49 Q258.1 1076.05 255.678 1074.12 Q253.282 1072.17 248.986 1072.17 L244.454 1072.17 L244.454 1067.85 L249.194 1067.85 Q253.074 1067.85 255.131 1066.31 Q257.189 1064.75 257.189 1061.83 Q257.189 1058.84 255.053 1057.25 Q252.944 1055.63 248.986 1055.63 Q246.824 1055.63 244.35 1056.1 Q241.876 1056.57 238.907 1057.56 L238.907 1052.87 Q241.902 1052.04 244.506 1051.62 Q247.137 1051.21 249.454 1051.21 Q255.444 1051.21 258.933 1053.94 Q262.423 1056.65 262.423 1061.28 Q262.423 1064.51 260.574 1066.75 Q258.725 1068.97 255.314 1069.82 Z\" fill=\"#000000\" fill-rule=\"nonzero\" fill-opacity=\"1\" /><path clip-path=\"url(#clip740)\" d=\"M531.948 572.565 L518.667 593.32 L531.948 593.32 L531.948 572.565 M530.568 567.982 L537.183 567.982 L537.183 593.32 L542.729 593.32 L542.729 597.695 L537.183 597.695 L537.183 606.862 L531.948 606.862 L531.948 597.695 L514.396 597.695 L514.396 592.617 L530.568 567.982 Z\" fill=\"#000000\" fill-rule=\"nonzero\" fill-opacity=\"1\" /><path clip-path=\"url(#clip740)\" d=\"M799.729 602.435 L808.322 602.435 L808.322 572.774 L798.973 574.649 L798.973 569.857 L808.27 567.982 L813.531 567.982 L813.531 602.435 L822.124 602.435 L822.124 606.862 L799.729 606.862 L799.729 602.435 Z\" fill=\"#000000\" fill-rule=\"nonzero\" fill-opacity=\"1\" /><path clip-path=\"url(#clip740)\" d=\"M384.673 360.472 L403.032 360.472 L403.032 364.899 L378.345 364.899 L378.345 360.472 Q381.339 357.373 386.496 352.165 Q391.678 346.93 393.006 345.42 Q395.532 342.581 396.522 340.628 Q397.537 338.649 397.537 336.748 Q397.537 333.649 395.35 331.696 Q393.188 329.743 389.699 329.743 Q387.225 329.743 384.464 330.602 Q381.73 331.462 378.605 333.206 L378.605 327.894 Q381.782 326.618 384.542 325.967 Q387.303 325.316 389.594 325.316 Q395.636 325.316 399.23 328.337 Q402.824 331.357 402.824 336.409 Q402.824 338.805 401.912 340.967 Q401.027 343.102 398.657 346.019 Q398.006 346.774 394.516 350.394 Q391.027 353.987 384.673 360.472 Z\" fill=\"#000000\" fill-rule=\"nonzero\" fill-opacity=\"1\" /><path clip-path=\"url(#clip740)\" d=\"M395.011 827.862 Q398.787 828.669 400.896 831.221 Q403.032 833.773 403.032 837.523 Q403.032 843.278 399.074 846.429 Q395.115 849.58 387.824 849.58 Q385.376 849.58 382.772 849.086 Q380.193 848.617 377.433 847.653 L377.433 842.575 Q379.621 843.851 382.225 844.502 Q384.829 845.153 387.667 845.153 Q392.615 845.153 395.193 843.2 Q397.798 841.247 397.798 837.523 Q397.798 834.086 395.376 832.159 Q392.98 830.205 388.683 830.205 L384.152 830.205 L384.152 825.883 L388.891 825.883 Q392.772 825.883 394.829 824.346 Q396.886 822.784 396.886 819.867 Q396.886 816.872 394.751 815.284 Q392.641 813.669 388.683 813.669 Q386.522 813.669 384.048 814.138 Q381.574 814.607 378.605 815.596 L378.605 810.909 Q381.6 810.075 384.204 809.659 Q386.834 809.242 389.152 809.242 Q395.141 809.242 398.631 811.976 Q402.12 814.685 402.12 819.32 Q402.12 822.549 400.272 824.789 Q398.423 827.002 395.011 827.862 Z\" fill=\"#000000\" fill-rule=\"nonzero\" fill-opacity=\"1\" /></svg>\n"
      ]
     },
     "execution_count": 2,
     "metadata": {},
     "output_type": "execute_result"
    }
   ],
   "source": [
    "scatter(x[𝐈],y[𝐈], color=\"blue\",markersize=7,markeralpha=0.5);\n",
    "scatter!(x[𝐁],y[𝐁], color=\"red\",markersize=7,markeralpha=0.5);\n",
    "for i in eachindex(x)\n",
    "  annotate!(x[i], y[i], text(\"$i\",:black,:top,:right,9))\n",
    "end\n",
    "for (i, r) in enumerate(eachrow(∇))\n",
    "  i1, i2 = findall(abs.(r) .> 0)\n",
    "  plot!([x[i1], x[i2]], [y[i1], y[i2]], color=\"black\", lw=1)\n",
    "  annotate!((x[i1]+x[i2])/2, (y[i1]+y[i2])/2, text(\"$i\", :black, :top,:right,9))\n",
    "end\n",
    "p=plot!(legend=:none, aspect_ratio=:equal, axis=false, grid=false,size=(300,300))"
   ]
  },
  {
   "cell_type": "markdown",
   "metadata": {},
   "source": [
    "## Solve the Dirichlet problem"
   ]
  },
  {
   "cell_type": "code",
   "execution_count": 3,
   "metadata": {},
   "outputs": [
    {
     "data": {
      "text/plain": [
       "\u001b[32m\u001b[1mTest Passed\u001b[22m\u001b[39m"
      ]
     },
     "execution_count": 3,
     "metadata": {},
     "output_type": "execute_result"
    }
   ],
   "source": [
    "u1 = zeros(4)\n",
    "u1[𝐁] = f1;\n",
    "u1[𝐈] = -L(σ)[𝐈,𝐈]\\(L(σ)[𝐈,𝐁]*f1)\n",
    "@test u1[𝐈][1] ≈ 1/3"
   ]
  },
  {
   "cell_type": "markdown",
   "metadata": {},
   "source": [
    "## Jacobian and injectivity test"
   ]
  },
  {
   "cell_type": "code",
   "execution_count": 4,
   "metadata": {},
   "outputs": [
    {
     "name": "stdout",
     "output_type": "stream",
     "text": [
      "\u001b[0m\u001b[1mTest Summary: | \u001b[22m\u001b[32m\u001b[1mPass  \u001b[22m\u001b[39m\u001b[36m\u001b[1mTotal  \u001b[22m\u001b[39m\u001b[0m\u001b[1mTime\u001b[22m\n",
      "test set      | \u001b[32m   1  \u001b[39m\u001b[36m    1  \u001b[39m\u001b[0m0.1s\n",
      "Condition number of Jacobian is = 44.26237920125537\n"
     ]
    }
   ],
   "source": [
    "R𝐈= I(n𝐕)[𝐈,:] # restriction to interior nodes\n",
    "# Forward problem and Jacobian\n",
    "ℒ(σ,u) = [ (L(σ)*u)[𝐈]; u[𝐁] ]\n",
    "ℳ(σ,u) = σ .* (∇*u).^2\n",
    "DℒDσ(σ,u) = [R𝐈*∇'*diagm(∇*u);zeros(n𝐁,n𝐄)]\n",
    "DℒDu(σ,u) = [L(σ)[𝐈,:];I(n𝐕)[𝐁,:]]\n",
    "DℳDσ(σ,u) = diagm((∇*u).^2)\n",
    "DℳDu(σ,u) = diagm(2σ.*(∇*u))*∇\n",
    "𝒜 = [ DℒDσ(σ,u1) DℒDu(σ,u1)\n",
    "      DℳDσ(σ,u1) DℳDu(σ,u1) ]\n",
    "\n",
    "@testset begin\n",
    "  @test all(size(𝒜) .== (n𝐕+n𝐄,n𝐕+n𝐄))\n",
    "end\n",
    "println(\"Condition number of Jacobian is = \",cond(𝒜))"
   ]
  },
  {
   "cell_type": "markdown",
   "metadata": {},
   "source": [
    "---\n",
    "\n",
    "*This notebook was generated using [Literate.jl](https://github.com/fredrikekre/Literate.jl).*"
   ]
  }
 ],
 "metadata": {
  "kernelspec": {
   "display_name": "Julia 1.11.3",
   "language": "julia",
   "name": "julia-1.11"
  },
  "language_info": {
   "file_extension": ".jl",
   "mimetype": "application/julia",
   "name": "julia",
   "version": "1.11.3"
  }
 },
 "nbformat": 4,
 "nbformat_minor": 4
}
