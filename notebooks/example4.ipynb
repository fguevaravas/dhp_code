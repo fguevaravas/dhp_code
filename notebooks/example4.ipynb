{
 "cells": [
  {
   "cell_type": "markdown",
   "source": [
    "# Example : complex conductivities\n",
    "## Graph setup\n",
    "First we setup the graph, boundary conditions and graph Laplacian"
   ],
   "metadata": {}
  },
  {
   "outputs": [],
   "cell_type": "code",
   "source": [
    "using Plots, LinearAlgebra, Test, DataFrames\n",
    "x = [-1,1,-1,1,0,0]\n",
    "y = [1,1,0,0,1,0]\n",
    "∇ = [ 1 0 0 0 -1  0\n",
    "      0 1 0 0 -1  0\n",
    "      0 0 1 0  0 -1\n",
    "      0 0 0 1  0 -1\n",
    "      0 0 0 0  1 -1 ]\n",
    "σr = [2,1,1,3,1]\n",
    "σi = [2,1,1,2,3]\n",
    "ω = 1\n",
    "𝐁 = [1,2,3,4];\n",
    "𝐈 = [5,6];\n",
    "n𝐈 =length(𝐈); n𝐁 = length(𝐁);\n",
    "n𝐄, n𝐕 = size(∇)\n",
    "\n",
    "fs = I(n𝐁)\n",
    "L(σ) = ∇'*diagm(σ)*∇;"
   ],
   "metadata": {},
   "execution_count": 1
  },
  {
   "cell_type": "markdown",
   "source": [
    "## Graph plotting"
   ],
   "metadata": {}
  },
  {
   "outputs": [
    {
     "output_type": "execute_result",
     "data": {
      "text/plain": "Plot{Plots.GRBackend() n=7}",
      "image/png": "[encoded data removed]",
      "text/html": [
       "<?xml version=\"1.0\" encoding=\"utf-8\"?>\n",
       "<svg xmlns=\"http://www.w3.org/2000/svg\" xmlns:xlink=\"http://www.w3.org/1999/xlink\" width=\"300\" height=\"300\" viewBox=\"0 0 1200 1200\">\n",
       "<defs>\n",
       "  <clipPath id=\"clip360\">\n",
       "    <rect x=\"0\" y=\"0\" width=\"1200\" height=\"1200\"/>\n",
       "  </clipPath>\n",
       "</defs>\n",
       "<path clip-path=\"url(#clip360)\" d=\"M0 1200 L1200 1200 L1200 0 L0 0  Z\" fill=\"#ffffff\" fill-rule=\"evenodd\" fill-opacity=\"1\"/>\n",
       "<defs>\n",
       "  <clipPath id=\"clip361\">\n",
       "    <rect x=\"240\" y=\"119\" width=\"841\" height=\"841\"/>\n",
       "  </clipPath>\n",
       "</defs>\n",
       "<path clip-path=\"url(#clip360)\" d=\"M180.941 1073.17 L1152.76 1073.17 L1152.76 47.2441 L180.941 47.2441  Z\" fill=\"#ffffff\" fill-rule=\"evenodd\" fill-opacity=\"1\"/>\n",
       "<defs>\n",
       "  <clipPath id=\"clip362\">\n",
       "    <rect x=\"180\" y=\"47\" width=\"973\" height=\"1027\"/>\n",
       "  </clipPath>\n",
       "</defs>\n",
       "<circle clip-path=\"url(#clip362)\" cx=\"666.848\" cy=\"331.004\" r=\"25.2\" fill=\"#0000ff\" fill-rule=\"evenodd\" fill-opacity=\"0.5\" stroke=\"#000000\" stroke-opacity=\"0.5\" stroke-width=\"2.4\"/>\n",
       "<circle clip-path=\"url(#clip362)\" cx=\"666.848\" cy=\"789.408\" r=\"25.2\" fill=\"#0000ff\" fill-rule=\"evenodd\" fill-opacity=\"0.5\" stroke=\"#000000\" stroke-opacity=\"0.5\" stroke-width=\"2.4\"/>\n",
       "<circle clip-path=\"url(#clip362)\" cx=\"208.445\" cy=\"331.004\" r=\"25.2\" fill=\"#ff0000\" fill-rule=\"evenodd\" fill-opacity=\"0.5\" stroke=\"#000000\" stroke-opacity=\"0.5\" stroke-width=\"2.4\"/>\n",
       "<circle clip-path=\"url(#clip362)\" cx=\"1125.25\" cy=\"331.004\" r=\"25.2\" fill=\"#ff0000\" fill-rule=\"evenodd\" fill-opacity=\"0.5\" stroke=\"#000000\" stroke-opacity=\"0.5\" stroke-width=\"2.4\"/>\n",
       "<circle clip-path=\"url(#clip362)\" cx=\"208.445\" cy=\"789.408\" r=\"25.2\" fill=\"#ff0000\" fill-rule=\"evenodd\" fill-opacity=\"0.5\" stroke=\"#000000\" stroke-opacity=\"0.5\" stroke-width=\"2.4\"/>\n",
       "<circle clip-path=\"url(#clip362)\" cx=\"1125.25\" cy=\"789.408\" r=\"25.2\" fill=\"#ff0000\" fill-rule=\"evenodd\" fill-opacity=\"0.5\" stroke=\"#000000\" stroke-opacity=\"0.5\" stroke-width=\"2.4\"/>\n",
       "<polyline clip-path=\"url(#clip362)\" style=\"stroke:#000000; stroke-linecap:round; stroke-linejoin:round; stroke-width:4; stroke-opacity:1; fill:none\" points=\"208.445,331.004 666.848,331.004 \"/>\n",
       "<polyline clip-path=\"url(#clip362)\" style=\"stroke:#000000; stroke-linecap:round; stroke-linejoin:round; stroke-width:4; stroke-opacity:1; fill:none\" points=\"1125.25,331.004 666.848,331.004 \"/>\n",
       "<polyline clip-path=\"url(#clip362)\" style=\"stroke:#000000; stroke-linecap:round; stroke-linejoin:round; stroke-width:4; stroke-opacity:1; fill:none\" points=\"208.445,789.408 666.848,789.408 \"/>\n",
       "<polyline clip-path=\"url(#clip362)\" style=\"stroke:#000000; stroke-linecap:round; stroke-linejoin:round; stroke-width:4; stroke-opacity:1; fill:none\" points=\"1125.25,789.408 666.848,789.408 \"/>\n",
       "<polyline clip-path=\"url(#clip362)\" style=\"stroke:#000000; stroke-linecap:round; stroke-linejoin:round; stroke-width:4; stroke-opacity:1; fill:none\" points=\"666.848,331.004 666.848,789.408 \"/>\n",
       "<path clip-path=\"url(#clip360)\" d=\"M186.049 373.233 L194.643 373.233 L194.643 343.572 L185.294 345.447 L185.294 340.655 L194.591 338.78 L199.851 338.78 L199.851 373.233 L208.445 373.233 L208.445 377.66 L186.049 377.66 L186.049 373.233 Z\" fill=\"#000000\" fill-rule=\"nonzero\" fill-opacity=\"1\" /><path clip-path=\"url(#clip360)\" d=\"M1106.89 373.233 L1125.25 373.233 L1125.25 377.66 L1100.56 377.66 L1100.56 373.233 Q1103.56 370.134 1108.72 364.926 Q1113.9 359.692 1115.23 358.181 Q1117.75 355.343 1118.74 353.39 Q1119.76 351.41 1119.76 349.509 Q1119.76 346.41 1117.57 344.457 Q1115.41 342.504 1111.92 342.504 Q1109.44 342.504 1106.68 343.364 Q1103.95 344.223 1100.82 345.968 L1100.82 340.655 Q1104 339.379 1106.76 338.728 Q1109.52 338.077 1111.81 338.077 Q1117.86 338.077 1121.45 341.098 Q1125.04 344.119 1125.04 349.171 Q1125.04 351.567 1124.13 353.728 Q1123.25 355.864 1120.88 358.78 Q1120.23 359.535 1116.74 363.155 Q1113.25 366.749 1106.89 373.233 Z\" fill=\"#000000\" fill-rule=\"nonzero\" fill-opacity=\"1\" /><path clip-path=\"url(#clip360)\" d=\"M200.424 815.1 Q204.2 815.908 206.309 818.46 Q208.445 821.012 208.445 824.762 Q208.445 830.517 204.487 833.668 Q200.528 836.819 193.237 836.819 Q190.789 836.819 188.185 836.324 Q185.606 835.855 182.846 834.892 L182.846 829.814 Q185.034 831.09 187.638 831.741 Q190.242 832.392 193.08 832.392 Q198.028 832.392 200.606 830.439 Q203.21 828.486 203.21 824.762 Q203.21 821.324 200.789 819.397 Q198.393 817.444 194.096 817.444 L189.565 817.444 L189.565 813.121 L194.304 813.121 Q198.184 813.121 200.242 811.585 Q202.299 810.022 202.299 807.106 Q202.299 804.111 200.164 802.522 Q198.054 800.908 194.096 800.908 Q191.935 800.908 189.461 801.376 Q186.987 801.845 184.018 802.835 L184.018 798.147 Q187.013 797.314 189.617 796.897 Q192.247 796.481 194.565 796.481 Q200.554 796.481 204.044 799.215 Q207.533 801.923 207.533 806.559 Q207.533 809.788 205.684 812.027 Q203.835 814.241 200.424 815.1 Z\" fill=\"#000000\" fill-rule=\"nonzero\" fill-opacity=\"1\" /><path clip-path=\"url(#clip360)\" d=\"M1114.47 801.767 L1101.19 822.522 L1114.47 822.522 L1114.47 801.767 M1113.09 797.184 L1119.7 797.184 L1119.7 822.522 L1125.25 822.522 L1125.25 826.897 L1119.7 826.897 L1119.7 836.064 L1114.47 836.064 L1114.47 826.897 L1096.92 826.897 L1096.92 821.819 L1113.09 797.184 Z\" fill=\"#000000\" fill-rule=\"nonzero\" fill-opacity=\"1\" /><path clip-path=\"url(#clip360)\" d=\"M643.333 338.78 L663.984 338.78 L663.984 343.207 L648.15 343.207 L648.15 352.739 Q649.296 352.348 650.442 352.166 Q651.588 351.957 652.734 351.957 Q659.244 351.957 663.046 355.525 Q666.848 359.093 666.848 365.186 Q666.848 371.462 662.942 374.952 Q659.036 378.415 651.926 378.415 Q649.479 378.415 646.927 377.999 Q644.4 377.582 641.692 376.749 L641.692 371.462 Q644.036 372.738 646.536 373.363 Q649.036 373.988 651.822 373.988 Q656.327 373.988 658.958 371.619 Q661.588 369.249 661.588 365.186 Q661.588 361.124 658.958 358.754 Q656.327 356.384 651.822 356.384 Q649.713 356.384 647.604 356.853 Q645.52 357.322 643.333 358.311 L643.333 338.78 Z\" fill=\"#000000\" fill-rule=\"nonzero\" fill-opacity=\"1\" /><path clip-path=\"url(#clip360)\" d=\"M653.88 814.527 Q650.338 814.527 648.255 816.949 Q646.197 819.371 646.197 823.59 Q646.197 827.782 648.255 830.23 Q650.338 832.652 653.88 832.652 Q657.421 832.652 659.479 830.23 Q661.562 827.782 661.562 823.59 Q661.562 819.371 659.479 816.949 Q657.421 814.527 653.88 814.527 M664.322 798.043 L664.322 802.835 Q662.343 801.897 660.312 801.402 Q658.307 800.908 656.327 800.908 Q651.119 800.908 648.359 804.423 Q645.624 807.939 645.234 815.048 Q646.77 812.783 649.088 811.585 Q651.406 810.361 654.192 810.361 Q660.051 810.361 663.437 813.928 Q666.848 817.47 666.848 823.59 Q666.848 829.579 663.307 833.199 Q659.765 836.819 653.88 836.819 Q647.135 836.819 643.567 831.663 Q639.999 826.48 639.999 816.663 Q639.999 807.444 644.374 801.975 Q648.749 796.481 656.119 796.481 Q658.098 796.481 660.104 796.871 Q662.135 797.262 664.322 798.043 Z\" fill=\"#000000\" fill-rule=\"nonzero\" fill-opacity=\"1\" /><path clip-path=\"url(#clip360)\" d=\"M415.251 373.233 L423.845 373.233 L423.845 343.572 L414.496 345.447 L414.496 340.655 L423.792 338.78 L429.053 338.78 L429.053 373.233 L437.647 373.233 L437.647 377.66 L415.251 377.66 L415.251 373.233 Z\" fill=\"#000000\" fill-rule=\"nonzero\" fill-opacity=\"1\" /><path clip-path=\"url(#clip360)\" d=\"M877.691 373.233 L896.05 373.233 L896.05 377.66 L871.363 377.66 L871.363 373.233 Q874.357 370.134 879.514 364.926 Q884.696 359.692 886.024 358.181 Q888.55 355.343 889.54 353.39 Q890.555 351.41 890.555 349.509 Q890.555 346.41 888.368 344.457 Q886.206 342.504 882.717 342.504 Q880.243 342.504 877.482 343.364 Q874.748 344.223 871.623 345.968 L871.623 340.655 Q874.8 339.379 877.561 338.728 Q880.321 338.077 882.613 338.077 Q888.654 338.077 892.248 341.098 Q895.842 344.119 895.842 349.171 Q895.842 351.567 894.93 353.728 Q894.045 355.864 891.675 358.78 Q891.024 359.535 887.534 363.155 Q884.045 366.749 877.691 373.233 Z\" fill=\"#000000\" fill-rule=\"nonzero\" fill-opacity=\"1\" /><path clip-path=\"url(#clip360)\" d=\"M429.626 815.1 Q433.402 815.908 435.511 818.46 Q437.647 821.012 437.647 824.762 Q437.647 830.517 433.688 833.668 Q429.73 836.819 422.438 836.819 Q419.99 836.819 417.386 836.324 Q414.808 835.855 412.048 834.892 L412.048 829.814 Q414.235 831.09 416.839 831.741 Q419.444 832.392 422.282 832.392 Q427.23 832.392 429.808 830.439 Q432.412 828.486 432.412 824.762 Q432.412 821.324 429.99 819.397 Q427.595 817.444 423.298 817.444 L418.766 817.444 L418.766 813.121 L423.506 813.121 Q427.386 813.121 429.443 811.585 Q431.501 810.022 431.501 807.106 Q431.501 804.111 429.365 802.522 Q427.256 800.908 423.298 800.908 Q421.136 800.908 418.662 801.376 Q416.188 801.845 413.22 802.835 L413.22 798.147 Q416.214 797.314 418.819 796.897 Q421.449 796.481 423.766 796.481 Q429.756 796.481 433.246 799.215 Q436.735 801.923 436.735 806.559 Q436.735 809.788 434.886 812.027 Q433.037 814.241 429.626 815.1 Z\" fill=\"#000000\" fill-rule=\"nonzero\" fill-opacity=\"1\" /><path clip-path=\"url(#clip360)\" d=\"M885.269 801.767 L871.988 822.522 L885.269 822.522 L885.269 801.767 M883.889 797.184 L890.503 797.184 L890.503 822.522 L896.05 822.522 L896.05 826.897 L890.503 826.897 L890.503 836.064 L885.269 836.064 L885.269 826.897 L867.717 826.897 L867.717 821.819 L883.889 797.184 Z\" fill=\"#000000\" fill-rule=\"nonzero\" fill-opacity=\"1\" /><path clip-path=\"url(#clip360)\" d=\"M643.333 567.982 L663.984 567.982 L663.984 572.409 L648.15 572.409 L648.15 581.94 Q649.296 581.55 650.442 581.367 Q651.588 581.159 652.734 581.159 Q659.244 581.159 663.046 584.727 Q666.848 588.294 666.848 594.388 Q666.848 600.664 662.942 604.154 Q659.036 607.617 651.926 607.617 Q649.479 607.617 646.927 607.201 Q644.4 606.784 641.692 605.951 L641.692 600.664 Q644.036 601.94 646.536 602.565 Q649.036 603.19 651.822 603.19 Q656.327 603.19 658.958 600.82 Q661.588 598.451 661.588 594.388 Q661.588 590.326 658.958 587.956 Q656.327 585.586 651.822 585.586 Q649.713 585.586 647.604 586.055 Q645.52 586.524 643.333 587.513 L643.333 567.982 Z\" fill=\"#000000\" fill-rule=\"nonzero\" fill-opacity=\"1\" /></svg>\n"
      ],
      "image/svg+xml": [
       "<?xml version=\"1.0\" encoding=\"utf-8\"?>\n",
       "<svg xmlns=\"http://www.w3.org/2000/svg\" xmlns:xlink=\"http://www.w3.org/1999/xlink\" width=\"300\" height=\"300\" viewBox=\"0 0 1200 1200\">\n",
       "<defs>\n",
       "  <clipPath id=\"clip330\">\n",
       "    <rect x=\"0\" y=\"0\" width=\"1200\" height=\"1200\"/>\n",
       "  </clipPath>\n",
       "</defs>\n",
       "<path clip-path=\"url(#clip330)\" d=\"M0 1200 L1200 1200 L1200 0 L0 0  Z\" fill=\"#ffffff\" fill-rule=\"evenodd\" fill-opacity=\"1\"/>\n",
       "<defs>\n",
       "  <clipPath id=\"clip331\">\n",
       "    <rect x=\"240\" y=\"119\" width=\"841\" height=\"841\"/>\n",
       "  </clipPath>\n",
       "</defs>\n",
       "<path clip-path=\"url(#clip330)\" d=\"M174.274 1073.17 L1152.76 1073.17 L1152.76 47.2441 L174.274 47.2441  Z\" fill=\"#ffffff\" fill-rule=\"evenodd\" fill-opacity=\"1\"/>\n",
       "<defs>\n",
       "  <clipPath id=\"clip332\">\n",
       "    <rect x=\"174\" y=\"47\" width=\"979\" height=\"1027\"/>\n",
       "  </clipPath>\n",
       "</defs>\n",
       "<circle clip-path=\"url(#clip332)\" cx=\"663.515\" cy=\"329.432\" r=\"25.2\" fill=\"#0000ff\" fill-rule=\"evenodd\" fill-opacity=\"0.5\" stroke=\"#000000\" stroke-opacity=\"0.5\" stroke-width=\"2.4\"/>\n",
       "<circle clip-path=\"url(#clip332)\" cx=\"663.515\" cy=\"790.98\" r=\"25.2\" fill=\"#0000ff\" fill-rule=\"evenodd\" fill-opacity=\"0.5\" stroke=\"#000000\" stroke-opacity=\"0.5\" stroke-width=\"2.4\"/>\n",
       "<circle clip-path=\"url(#clip332)\" cx=\"201.967\" cy=\"329.432\" r=\"25.2\" fill=\"#ff0000\" fill-rule=\"evenodd\" fill-opacity=\"0.5\" stroke=\"#000000\" stroke-opacity=\"0.5\" stroke-width=\"2.4\"/>\n",
       "<circle clip-path=\"url(#clip332)\" cx=\"1125.06\" cy=\"329.432\" r=\"25.2\" fill=\"#ff0000\" fill-rule=\"evenodd\" fill-opacity=\"0.5\" stroke=\"#000000\" stroke-opacity=\"0.5\" stroke-width=\"2.4\"/>\n",
       "<circle clip-path=\"url(#clip332)\" cx=\"201.967\" cy=\"790.98\" r=\"25.2\" fill=\"#ff0000\" fill-rule=\"evenodd\" fill-opacity=\"0.5\" stroke=\"#000000\" stroke-opacity=\"0.5\" stroke-width=\"2.4\"/>\n",
       "<circle clip-path=\"url(#clip332)\" cx=\"1125.06\" cy=\"790.98\" r=\"25.2\" fill=\"#ff0000\" fill-rule=\"evenodd\" fill-opacity=\"0.5\" stroke=\"#000000\" stroke-opacity=\"0.5\" stroke-width=\"2.4\"/>\n",
       "<polyline clip-path=\"url(#clip332)\" style=\"stroke:#000000; stroke-linecap:round; stroke-linejoin:round; stroke-width:4; stroke-opacity:1; fill:none\" points=\"201.967,329.432 663.515,329.432 \"/>\n",
       "<polyline clip-path=\"url(#clip332)\" style=\"stroke:#000000; stroke-linecap:round; stroke-linejoin:round; stroke-width:4; stroke-opacity:1; fill:none\" points=\"1125.06,329.432 663.515,329.432 \"/>\n",
       "<polyline clip-path=\"url(#clip332)\" style=\"stroke:#000000; stroke-linecap:round; stroke-linejoin:round; stroke-width:4; stroke-opacity:1; fill:none\" points=\"201.967,790.98 663.515,790.98 \"/>\n",
       "<polyline clip-path=\"url(#clip332)\" style=\"stroke:#000000; stroke-linecap:round; stroke-linejoin:round; stroke-width:4; stroke-opacity:1; fill:none\" points=\"1125.06,790.98 663.515,790.98 \"/>\n",
       "<polyline clip-path=\"url(#clip332)\" style=\"stroke:#000000; stroke-linecap:round; stroke-linejoin:round; stroke-width:4; stroke-opacity:1; fill:none\" points=\"663.515,329.432 663.515,790.98 \"/>\n",
       "<path clip-path=\"url(#clip330)\" d=\"M179.571 371.661 L188.165 371.661 L188.165 342 L178.816 343.875 L178.816 339.083 L188.113 337.208 L193.373 337.208 L193.373 371.661 L201.967 371.661 L201.967 376.088 L179.571 376.088 L179.571 371.661 Z\" fill=\"#000000\" fill-rule=\"nonzero\" fill-opacity=\"1\" /><path clip-path=\"url(#clip330)\" d=\"M1106.7 371.661 L1125.06 371.661 L1125.06 376.088 L1100.38 376.088 L1100.38 371.661 Q1103.37 368.562 1108.53 363.354 Q1113.71 358.119 1115.04 356.609 Q1117.56 353.77 1118.55 351.817 Q1119.57 349.838 1119.57 347.937 Q1119.57 344.838 1117.38 342.885 Q1115.22 340.932 1111.73 340.932 Q1109.26 340.932 1106.5 341.791 Q1103.76 342.651 1100.64 344.395 L1100.64 339.083 Q1103.81 337.807 1106.57 337.156 Q1109.33 336.505 1111.63 336.505 Q1117.67 336.505 1121.26 339.526 Q1124.85 342.546 1124.85 347.599 Q1124.85 349.994 1123.94 352.156 Q1123.06 354.291 1120.69 357.208 Q1120.04 357.963 1116.55 361.583 Q1113.06 365.177 1106.7 371.661 Z\" fill=\"#000000\" fill-rule=\"nonzero\" fill-opacity=\"1\" /><path clip-path=\"url(#clip330)\" d=\"M193.946 816.673 Q197.722 817.48 199.831 820.032 Q201.967 822.584 201.967 826.334 Q201.967 832.089 198.009 835.24 Q194.05 838.391 186.759 838.391 Q184.311 838.391 181.707 837.896 Q179.128 837.428 176.368 836.464 L176.368 831.386 Q178.556 832.662 181.16 833.313 Q183.764 833.964 186.602 833.964 Q191.55 833.964 194.128 832.011 Q196.733 830.058 196.733 826.334 Q196.733 822.897 194.311 820.969 Q191.915 819.016 187.618 819.016 L183.087 819.016 L183.087 814.693 L187.826 814.693 Q191.707 814.693 193.764 813.157 Q195.821 811.594 195.821 808.678 Q195.821 805.683 193.686 804.095 Q191.576 802.48 187.618 802.48 Q185.457 802.48 182.983 802.949 Q180.509 803.417 177.54 804.407 L177.54 799.72 Q180.535 798.886 183.139 798.47 Q185.769 798.053 188.087 798.053 Q194.076 798.053 197.566 800.787 Q201.055 803.496 201.055 808.131 Q201.055 811.36 199.206 813.6 Q197.358 815.813 193.946 816.673 Z\" fill=\"#000000\" fill-rule=\"nonzero\" fill-opacity=\"1\" /><path clip-path=\"url(#clip330)\" d=\"M1114.28 803.339 L1101 824.094 L1114.28 824.094 L1114.28 803.339 M1112.9 798.756 L1119.52 798.756 L1119.52 824.094 L1125.06 824.094 L1125.06 828.469 L1119.52 828.469 L1119.52 837.636 L1114.28 837.636 L1114.28 828.469 L1096.73 828.469 L1096.73 823.391 L1112.9 798.756 Z\" fill=\"#000000\" fill-rule=\"nonzero\" fill-opacity=\"1\" /><path clip-path=\"url(#clip330)\" d=\"M639.999 337.208 L660.65 337.208 L660.65 341.635 L644.817 341.635 L644.817 351.166 Q645.963 350.776 647.109 350.593 Q648.255 350.385 649.4 350.385 Q655.911 350.385 659.713 353.953 Q663.515 357.52 663.515 363.614 Q663.515 369.89 659.609 373.38 Q655.702 376.843 648.593 376.843 Q646.145 376.843 643.593 376.426 Q641.067 376.01 638.359 375.176 L638.359 369.89 Q640.703 371.166 643.203 371.791 Q645.703 372.416 648.489 372.416 Q652.994 372.416 655.624 370.046 Q658.255 367.677 658.255 363.614 Q658.255 359.552 655.624 357.182 Q652.994 354.812 648.489 354.812 Q646.38 354.812 644.27 355.281 Q642.187 355.75 639.999 356.739 L639.999 337.208 Z\" fill=\"#000000\" fill-rule=\"nonzero\" fill-opacity=\"1\" /><path clip-path=\"url(#clip330)\" d=\"M650.546 816.1 Q647.005 816.1 644.921 818.522 Q642.864 820.943 642.864 825.162 Q642.864 829.355 644.921 831.803 Q647.005 834.225 650.546 834.225 Q654.088 834.225 656.145 831.803 Q658.229 829.355 658.229 825.162 Q658.229 820.943 656.145 818.522 Q654.088 816.1 650.546 816.1 M660.989 799.615 L660.989 804.407 Q659.01 803.47 656.979 802.975 Q654.973 802.48 652.994 802.48 Q647.786 802.48 645.025 805.996 Q642.291 809.511 641.9 816.621 Q643.437 814.355 645.755 813.157 Q648.072 811.933 650.859 811.933 Q656.718 811.933 660.104 815.501 Q663.515 819.042 663.515 825.162 Q663.515 831.152 659.973 834.771 Q656.432 838.391 650.546 838.391 Q643.802 838.391 640.234 833.235 Q636.666 828.053 636.666 818.235 Q636.666 809.016 641.041 803.548 Q645.416 798.053 652.786 798.053 Q654.765 798.053 656.77 798.444 Q658.801 798.834 660.989 799.615 Z\" fill=\"#000000\" fill-rule=\"nonzero\" fill-opacity=\"1\" /><path clip-path=\"url(#clip330)\" d=\"M410.345 371.661 L418.939 371.661 L418.939 342 L409.59 343.875 L409.59 339.083 L418.887 337.208 L424.147 337.208 L424.147 371.661 L432.741 371.661 L432.741 376.088 L410.345 376.088 L410.345 371.661 Z\" fill=\"#000000\" fill-rule=\"nonzero\" fill-opacity=\"1\" /><path clip-path=\"url(#clip330)\" d=\"M875.93 371.661 L894.289 371.661 L894.289 376.088 L869.602 376.088 L869.602 371.661 Q872.596 368.562 877.753 363.354 Q882.935 358.119 884.263 356.609 Q886.789 353.77 887.779 351.817 Q888.794 349.838 888.794 347.937 Q888.794 344.838 886.607 342.885 Q884.445 340.932 880.956 340.932 Q878.482 340.932 875.721 341.791 Q872.987 342.651 869.862 344.395 L869.862 339.083 Q873.039 337.807 875.8 337.156 Q878.56 336.505 880.852 336.505 Q886.893 336.505 890.487 339.526 Q894.081 342.546 894.081 347.599 Q894.081 349.994 893.169 352.156 Q892.284 354.291 889.914 357.208 Q889.263 357.963 885.773 361.583 Q882.284 365.177 875.93 371.661 Z\" fill=\"#000000\" fill-rule=\"nonzero\" fill-opacity=\"1\" /><path clip-path=\"url(#clip330)\" d=\"M424.72 816.673 Q428.496 817.48 430.606 820.032 Q432.741 822.584 432.741 826.334 Q432.741 832.089 428.783 835.24 Q424.824 838.391 417.533 838.391 Q415.085 838.391 412.481 837.896 Q409.903 837.428 407.142 836.464 L407.142 831.386 Q409.33 832.662 411.934 833.313 Q414.538 833.964 417.376 833.964 Q422.324 833.964 424.902 832.011 Q427.507 830.058 427.507 826.334 Q427.507 822.897 425.085 820.969 Q422.689 819.016 418.392 819.016 L413.861 819.016 L413.861 814.693 L418.6 814.693 Q422.481 814.693 424.538 813.157 Q426.595 811.594 426.595 808.678 Q426.595 805.683 424.46 804.095 Q422.35 802.48 418.392 802.48 Q416.231 802.48 413.757 802.949 Q411.283 803.417 408.314 804.407 L408.314 799.72 Q411.309 798.886 413.913 798.47 Q416.543 798.053 418.861 798.053 Q424.85 798.053 428.34 800.787 Q431.829 803.496 431.829 808.131 Q431.829 811.36 429.981 813.6 Q428.132 815.813 424.72 816.673 Z\" fill=\"#000000\" fill-rule=\"nonzero\" fill-opacity=\"1\" /><path clip-path=\"url(#clip330)\" d=\"M883.508 803.339 L870.227 824.094 L883.508 824.094 L883.508 803.339 M882.128 798.756 L888.742 798.756 L888.742 824.094 L894.289 824.094 L894.289 828.469 L888.742 828.469 L888.742 837.636 L883.508 837.636 L883.508 828.469 L865.956 828.469 L865.956 823.391 L882.128 798.756 Z\" fill=\"#000000\" fill-rule=\"nonzero\" fill-opacity=\"1\" /><path clip-path=\"url(#clip330)\" d=\"M639.999 567.982 L660.65 567.982 L660.65 572.409 L644.817 572.409 L644.817 581.94 Q645.963 581.55 647.109 581.367 Q648.255 581.159 649.4 581.159 Q655.911 581.159 659.713 584.727 Q663.515 588.294 663.515 594.388 Q663.515 600.664 659.609 604.154 Q655.702 607.617 648.593 607.617 Q646.145 607.617 643.593 607.201 Q641.067 606.784 638.359 605.951 L638.359 600.664 Q640.703 601.94 643.203 602.565 Q645.703 603.19 648.489 603.19 Q652.994 603.19 655.624 600.82 Q658.255 598.451 658.255 594.388 Q658.255 590.326 655.624 587.956 Q652.994 585.586 648.489 585.586 Q646.38 585.586 644.27 586.055 Q642.187 586.524 639.999 587.513 L639.999 567.982 Z\" fill=\"#000000\" fill-rule=\"nonzero\" fill-opacity=\"1\" /></svg>\n"
      ]
     },
     "metadata": {},
     "execution_count": 2
    }
   ],
   "cell_type": "code",
   "source": [
    "scatter(x[𝐈],y[𝐈], color=\"blue\",markersize=7,markeralpha=0.5);\n",
    "scatter!(x[𝐁],y[𝐁], color=\"red\",markersize=7,markeralpha=0.5);\n",
    "for i in eachindex(x)\n",
    "  annotate!(x[i], y[i], text(\"$i\",:black,:top,:right,9))\n",
    "end\n",
    "for (i, r) in enumerate(eachrow(∇))\n",
    "  i1, i2 = findall(abs.(r) .> 0)\n",
    "  plot!([x[i1], x[i2]], [y[i1], y[i2]], color=\"black\", lw=1)\n",
    "  annotate!((x[i1]+x[i2])/2, (y[i1]+y[i2])/2, text(\"$i\", :black, :top,:right,9))\n",
    "end\n",
    "p=plot!(legend=:none, aspect_ratio=:equal, axis=false, grid=false,size=(300,300))"
   ],
   "metadata": {},
   "execution_count": 2
  },
  {
   "cell_type": "markdown",
   "source": [
    "## Jacobian for one dirichlet boundary condition"
   ],
   "metadata": {}
  },
  {
   "outputs": [],
   "cell_type": "code",
   "source": [
    "R𝐈= I(n𝐕)[𝐈,:] # restriction to interior nodes\n",
    "R𝐁= I(n𝐕)[𝐁,:] # restriction to boundary nodes\n",
    "\n",
    "# Dirichlet problem solve\n",
    "function dirsolve(σ,f)\n",
    "  u = zeros(ComplexF64,n𝐕)\n",
    "  u[𝐁] = f\n",
    "  u[𝐈] = -L(σ)[𝐈,𝐈]\\(L(σ)[𝐈,𝐁]*f)\n",
    "  return u\n",
    "end\n",
    "\n",
    "# Forward problem and Jacobian\n",
    "ℒ(σr,σi,u0,u1,u1b) = [\n",
    "            (L(σr)*u0)[𝐈]\n",
    "            (L(σr+im*ω*σi)*u1)[𝐈]\n",
    "            (L(σr-im*ω*σi)*u1b)[𝐈]\n",
    "            u0[𝐁]\n",
    "            u1[𝐁]\n",
    "            u1b[𝐁]\n",
    "]\n",
    "ℳ(σr,σi,u0,u1,u1b) =\n",
    "[ σr .* abs2.(∇*u0)\n",
    "  σr .* (∇*u1) .* (∇*u1b) ]\n",
    "\n",
    "Dℒ(σr,σi,u0,u1,u1b) = [\n",
    "    R𝐈*∇'*diagm(∇*u0)   zeros(n𝐈,n𝐄)            R𝐈*L(σr)      zeros(n𝐈,n𝐕)     zeros(n𝐈,n𝐕)\n",
    "    R𝐈*∇'*diagm(∇*u1)   im*ω*R𝐈*∇'*diagm(∇*u1)  zeros(n𝐈,n𝐕)  R𝐈*L(σr+im*ω*σi) zeros(n𝐈,n𝐕)\n",
    "    R𝐈*∇'*diagm(∇*u1b) -im*ω*R𝐈*∇'*diagm(∇*u1b) zeros(n𝐈,n𝐕)  zeros(n𝐈,n𝐕)     R𝐈*L(σr-im*ω*σi)\n",
    "    zeros(n𝐁,n𝐄)        zeros(n𝐁,n𝐄)           R𝐁            zeros(n𝐁,n𝐕)    zeros(n𝐁,n𝐕)\n",
    "    zeros(n𝐁,n𝐄)        zeros(n𝐁,n𝐄)           zeros(n𝐁,n𝐕)  R𝐁              zeros(n𝐁,n𝐕)\n",
    "    zeros(n𝐁,n𝐄)        zeros(n𝐁,n𝐄)           zeros(n𝐁,n𝐕)  zeros(n𝐁,n𝐕)    R𝐁\n",
    "]\n",
    "\n",
    "Dℳ(σr,σi,u0,u1,u1b) = [\n",
    " diagm(abs2.(∇*u0))     zeros(n𝐄,n𝐄) 2diagm(σr .* (∇*u0))*∇ zeros(n𝐄,n𝐕)           zeros(n𝐄,n𝐕)\n",
    " diagm((∇*u1).*(∇*u1b)) zeros(n𝐄,n𝐄) zeros(n𝐄,n𝐕)           diagm(σr .* (∇*u1b))*∇ diagm(σr .* (∇*u1))*∇\n",
    "];"
   ],
   "metadata": {},
   "execution_count": 3
  },
  {
   "cell_type": "markdown",
   "source": [
    "## Assemble Jacobian and injectivity matrix for all boundary conditions"
   ],
   "metadata": {}
  },
  {
   "outputs": [],
   "cell_type": "code",
   "source": [
    "function jacobian(σr,σi,fs)\n",
    "  N = size(fs,2) # number of Dirichlet boundary conditions\n",
    "  # Solve Dirichlet problems and calculate Jacobians for each boundary condition\n",
    "  u0s = zeros(ComplexF64,n𝐕,N)\n",
    "  u1s = zeros(ComplexF64,n𝐕,N)\n",
    "  Dℒs = Vector{Any}(undef,N)\n",
    "  Dℳs = Vector{Any}(undef,N)\n",
    "  for j=1:N\n",
    "    u0s[:,j] = dirsolve(σr,fs[:,j])\n",
    "    u1s[:,j] = dirsolve(σr+im*ω*σi,fs[:,j])\n",
    "    Dℒs[j] = Dℒ(σr,σi,u0s[:,j],u1s[:,j],conj(u1s[:,j]))\n",
    "    Dℳs[j] = Dℳ(σr,σi,u0s[:,j],u1s[:,j],conj(u1s[:,j]))\n",
    "  end\n",
    "\n",
    "  # Assemble full Jacobian\n",
    "  𝒜 = zeros(ComplexF64,3N*n𝐕+2N*n𝐄,2n𝐄+3N*n𝐕)\n",
    "  for j=1:N\n",
    "    𝒜[ (j-1)*3n𝐕 .+ (1:3n𝐕)         , 1:2n𝐄 ] = Dℒs[j][:,1:2n𝐄]\n",
    "    𝒜[ 3N*n𝐕 + (j-1)*2n𝐄 .+ (1:2n𝐄) , 1:2n𝐄 ] = Dℳs[j][:,1:2n𝐄]\n",
    "    𝒜[ (j-1)*3n𝐕 .+ (1:3n𝐕)         , 2n𝐄 .+ (j-1)*3n𝐕 .+ (1:3n𝐕) ] = Dℒs[j][:,2n𝐄 .+ (1:3n𝐕)]\n",
    "    𝒜[ 3N*n𝐕 .+ (j-1)*2n𝐄 .+ (1:2n𝐄), 2n𝐄 .+ (j-1)*3n𝐕 .+ (1:3n𝐕) ] = Dℳs[j][:,2n𝐄 .+ (1:3n𝐕)]\n",
    "  end\n",
    "  return 𝒜\n",
    "end;\n",
    "\n",
    "# Assemble matrix for injectivity condition\n",
    "function injectivity_condition(σr,σi,fs)\n",
    "  N = size(fs,2)\n",
    "  A = zeros(ComplexF64,N*n𝐄,n𝐄)\n",
    "  for j=1:N\n",
    "    u1 = dirsolve(σr+im*ω*σi,fs[:,j])\n",
    "    A[(j-1)*n𝐄 .+ (1:n𝐄),:] = -im*diagm(∇*conj(u1))*∇*R𝐈'*inv(L(σr+im*ω*σi)[𝐈,𝐈])*R𝐈*∇'*diagm(∇*u1)\n",
    "  end\n",
    "  return(A)\n",
    "end;"
   ],
   "metadata": {},
   "execution_count": 4
  },
  {
   "cell_type": "markdown",
   "source": [
    "## Some numerical tests for injectivity\n",
    "Here should see that the linearized inverse problem is not injective for $N=1$\n",
    "and $N=2$, but is for $N=3$ and $N=4$. In this example, the condition number\n",
    "improves (is smaller) with larger $N$. We also include the rank of the complex\n",
    "matrix $A = [A^{(1)};\\ldots;A^{(N)}]$ and of its real part. We can see that as\n",
    "a complex matrix $A$ has at least $\\sigma' + \\jmath\\omega_1\\sigma''$ in its\n",
    "nullspace."
   ],
   "metadata": {}
  },
  {
   "outputs": [
    {
     "name": "stdout",
     "output_type": "stream",
     "text": [
      "Test Summary:                         | Pass  Total  Time\n",
      "Check σ' + ȷωσ'' is in nullspace of A |    4      4  0.2s\n"
     ]
    },
    {
     "output_type": "execute_result",
     "data": {
      "text/plain": "\u001b[1m4×6 DataFrame\u001b[0m\n\u001b[1m Row \u001b[0m│\u001b[1m N     \u001b[0m\u001b[1m sizeJ     \u001b[0m\u001b[1m rankJ \u001b[0m\u001b[1m condJ         \u001b[0m\u001b[1m rankA \u001b[0m\u001b[1m rankrealA \u001b[0m\n     │\u001b[90m Int64 \u001b[0m\u001b[90m Any       \u001b[0m\u001b[90m Int64 \u001b[0m\u001b[90m Float64       \u001b[0m\u001b[90m Int64 \u001b[0m\u001b[90m Int64     \u001b[0m\n─────┼──────────────────────────────────────────────────────────\n   1 │     1  (28, 28)      27     1.54951e17      2          4\n   2 │     2  (56, 46)      45     1.36094e16      3          4\n   3 │     3  (84, 64)      64  3319.42            4          5\n   4 │     4  (112, 82)     82  1837.58            4          5",
      "text/html": [
       "<div><div style = \"float: left;\"><span>4×6 DataFrame</span></div><div style = \"clear: both;\"></div></div><div class = \"data-frame\" style = \"overflow-x: scroll;\"><table class = \"data-frame\" style = \"margin-bottom: 6px;\"><thead><tr class = \"header\"><th class = \"rowNumber\" style = \"font-weight: bold; text-align: right;\">Row</th><th style = \"text-align: left;\">N</th><th style = \"text-align: left;\">sizeJ</th><th style = \"text-align: left;\">rankJ</th><th style = \"text-align: left;\">condJ</th><th style = \"text-align: left;\">rankA</th><th style = \"text-align: left;\">rankrealA</th></tr><tr class = \"subheader headerLastRow\"><th class = \"rowNumber\" style = \"font-weight: bold; text-align: right;\"></th><th title = \"Int64\" style = \"text-align: left;\">Int64</th><th title = \"Any\" style = \"text-align: left;\">Any</th><th title = \"Int64\" style = \"text-align: left;\">Int64</th><th title = \"Float64\" style = \"text-align: left;\">Float64</th><th title = \"Int64\" style = \"text-align: left;\">Int64</th><th title = \"Int64\" style = \"text-align: left;\">Int64</th></tr></thead><tbody><tr><td class = \"rowNumber\" style = \"font-weight: bold; text-align: right;\">1</td><td style = \"text-align: right;\">1</td><td style = \"text-align: left;\">(28, 28)</td><td style = \"text-align: right;\">27</td><td style = \"text-align: right;\">1.54951e17</td><td style = \"text-align: right;\">2</td><td style = \"text-align: right;\">4</td></tr><tr><td class = \"rowNumber\" style = \"font-weight: bold; text-align: right;\">2</td><td style = \"text-align: right;\">2</td><td style = \"text-align: left;\">(56, 46)</td><td style = \"text-align: right;\">45</td><td style = \"text-align: right;\">1.36094e16</td><td style = \"text-align: right;\">3</td><td style = \"text-align: right;\">4</td></tr><tr><td class = \"rowNumber\" style = \"font-weight: bold; text-align: right;\">3</td><td style = \"text-align: right;\">3</td><td style = \"text-align: left;\">(84, 64)</td><td style = \"text-align: right;\">64</td><td style = \"text-align: right;\">3319.42</td><td style = \"text-align: right;\">4</td><td style = \"text-align: right;\">5</td></tr><tr><td class = \"rowNumber\" style = \"font-weight: bold; text-align: right;\">4</td><td style = \"text-align: right;\">4</td><td style = \"text-align: left;\">(112, 82)</td><td style = \"text-align: right;\">82</td><td style = \"text-align: right;\">1837.58</td><td style = \"text-align: right;\">4</td><td style = \"text-align: right;\">5</td></tr></tbody></table></div>"
      ]
     },
     "metadata": {},
     "execution_count": 5
    }
   ],
   "cell_type": "code",
   "source": [
    "N = 4\n",
    "rankJ = zeros(Int64,N)\n",
    "rankA = zeros(Int64,N)\n",
    "rankrealA = zeros(Int64,N)\n",
    "condJ = zeros(N)\n",
    "sizeJ = Vector{}(undef,N)\n",
    "As = Vector{}(undef,N)\n",
    "for j=1:4\n",
    "    J = jacobian(σr,σi,fs[:,1:j])\n",
    "    A = injectivity_condition(σr,σi,fs[:,1:j])\n",
    "    As[j]=A\n",
    "    rankJ[j] = rank(J)\n",
    "    rankA[j] = rank(A)\n",
    "    rankrealA[j] = rank(real(A))\n",
    "    sizeJ[j] = size(J)\n",
    "    condJ[j] = cond(J)\n",
    "end\n",
    "\n",
    "@testset \"Check σ' + ȷωσ'' is in nullspace of A\" begin\n",
    "  σ = σr+im*ω*σi\n",
    "  for j=1:4\n",
    "    @test norm(As[j]*σ)/norm(σ) < 1e-10\n",
    "  end\n",
    "end\n",
    "\n",
    "# A table summarizing results\n",
    "DataFrame(N=1:4,sizeJ=sizeJ,rankJ=rankJ,condJ=condJ,rankA=rankA,rankrealA=rankrealA)"
   ],
   "metadata": {},
   "execution_count": 5
  },
  {
   "cell_type": "markdown",
   "source": [
    "---\n",
    "\n",
    "*This notebook was generated using [Literate.jl](https://github.com/fredrikekre/Literate.jl).*"
   ],
   "metadata": {}
  }
 ],
 "nbformat_minor": 3,
 "metadata": {
  "language_info": {
   "file_extension": ".jl",
   "mimetype": "application/julia",
   "name": "julia",
   "version": "1.10.4"
  },
  "kernelspec": {
   "name": "julia-1.10",
   "display_name": "Julia 1.10.4",
   "language": "julia"
  }
 },
 "nbformat": 4
}
